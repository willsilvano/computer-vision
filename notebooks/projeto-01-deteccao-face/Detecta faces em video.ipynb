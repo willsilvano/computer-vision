{
 "cells": [
  {
   "cell_type": "code",
   "execution_count": 47,
   "metadata": {},
   "outputs": [],
   "source": [
    "# Importação das bibliotecas necessárias\n",
    "from imutils.video import VideoStream\n",
    "import numpy as np\n",
    "import argparse\n",
    "import imutils\n",
    "import time\n",
    "import cv2\n",
    "from IPython.display import HTML"
   ]
  },
  {
   "cell_type": "code",
   "execution_count": 48,
   "metadata": {},
   "outputs": [],
   "source": [
    "# Variáveis\n",
    "prototxt = 'deploy.prototxt.txt'\n",
    "model = 'res10_300x300_ssd_iter_140000.caffemodel'\n",
    "confidence_custom = 0.5"
   ]
  },
  {
   "cell_type": "code",
   "execution_count": 49,
   "metadata": {},
   "outputs": [],
   "source": [
    "# Carrega o modelo treinado\n",
    "net = cv2.dnn.readNetFromCaffe(prototxt, model)"
   ]
  },
  {
   "cell_type": "code",
   "execution_count": 50,
   "metadata": {},
   "outputs": [],
   "source": [
    "# Inicializa o stream do video\n",
    "vs = VideoStream(src=0).start()\n",
    "time.sleep(1)"
   ]
  },
  {
   "cell_type": "code",
   "execution_count": 51,
   "metadata": {},
   "outputs": [],
   "source": [
    "# Percorre os frames do video\n",
    "while True:\n",
    "    \n",
    "    # Redimensiona o tamanho do video\n",
    "    frame = vs.read()\n",
    "    frame = imutils.resize(frame, width=800)\n",
    " \n",
    "    # Converte as dimensões do video em formato blob\n",
    "    (h, w) = frame.shape[:2]\n",
    "    blob = cv2.dnn.blobFromImage(cv2.resize(frame, (300, 300)), 1.0,\n",
    "        (300, 300), (104.0, 177.0, 123.0))\n",
    " \n",
    "    # Envia o blob da image para a rede para ter acesso as predições e detecções\n",
    "    net.setInput(blob)\n",
    "    detections = net.forward()\n",
    "        \n",
    "    # Controla o número de faces detectadas\n",
    "    num_faces = 0\n",
    "    \n",
    "    # Itera o número de faces encontradas\n",
    "    for i in range(0, detections.shape[2]):\n",
    "        \n",
    "        # Nível de confiança para a detecção atual\n",
    "        confidence = detections[0, 0, i, 2]\n",
    "\n",
    "        # Filtra somente as detecções que tem uma confiança maior que a definida anteriomente\n",
    "        if confidence < confidence_custom:\n",
    "            continue\n",
    "        \n",
    "        # Incrementa o número de faces detectadas\n",
    "        num_faces += 1\n",
    "\n",
    "        # calcula as coordenadas X e Y para desenhar o \"box\" sobre a face detectada\n",
    "        box = detections[0, 0, i, 3:7] * np.array([w, h, w, h])\n",
    "        (startX, startY, endX, endY) = box.astype(\"int\")\n",
    " \n",
    "        # Desenha o \"box\" sobre a face e também exibe o percentual de confiança sobre a detecção\n",
    "        text = \"{:.2f}%\".format(confidence * 100)\n",
    "        y = startY - 10 if startY - 10 > 10 else startY + 10\n",
    "        cv2.rectangle(frame, (startX, startY), (endX, endY),\n",
    "            (0, 0, 255), 2)\n",
    "        cv2.putText(frame, text, (startX, y),\n",
    "            cv2.FONT_HERSHEY_SIMPLEX, 0.45, (0, 0, 255), 2)\n",
    "        \n",
    "    # Mostra o número de faces detectadas no video\n",
    "    cv2.putText(frame, \"Quantidade Faces: {}\".format(num_faces), \n",
    "        (10, 30), cv2.FONT_HERSHEY_SIMPLEX, 0.7, (0, 0, 255), 2)\n",
    "\n",
    "    # Exibe o frame do video com as detecções\n",
    "    cv2.imshow(\"Frame\", frame)\n",
    "    key = cv2.waitKey(1) & 0xFF\n",
    " \n",
    "    # Controle de parada do video ao apertar tecla \"q\"\n",
    "    if key == ord(\"q\"):\n",
    "        break\n",
    "\n",
    "# Fecha as janelas e termina os processos de detecção\n",
    "cv2.destroyAllWindows()\n",
    "vs.stop()\n",
    "vs.stream.release()"
   ]
  },
  {
   "cell_type": "code",
   "execution_count": 52,
   "metadata": {},
   "outputs": [
    {
     "data": {
      "text/html": [
       "<iframe width=\"560\" height=\"315\" src=\"https://www.youtube.com/embed/MdbVAd0ABM8\" frameborder=\"0\" allow=\"accelerometer; autoplay; encrypted-media; gyroscope; picture-in-picture\" allowfullscreen></iframe>"
      ],
      "text/plain": [
       "<IPython.core.display.HTML object>"
      ]
     },
     "execution_count": 52,
     "metadata": {},
     "output_type": "execute_result"
    }
   ],
   "source": [
    "# Youtube\n",
    "HTML('<iframe width=\"560\" height=\"315\" src=\"https://www.youtube.com/embed/MdbVAd0ABM8\" frameborder=\"0\" allow=\"accelerometer; autoplay; encrypted-media; gyroscope; picture-in-picture\" allowfullscreen></iframe>')"
   ]
  },
  {
   "cell_type": "markdown",
   "metadata": {},
   "source": [
    "Caso o link acima não exiba o video, acesse por aqui:\n",
    "https://nbviewer.jupyter.org/github/willsilvano/computer-vision/blob/master/notebooks/projeto-01-deteccao-face/Detect%20faces%20on%20video.ipynb"
   ]
  }
 ],
 "metadata": {
  "kernelspec": {
   "display_name": "Python 3",
   "language": "python",
   "name": "python3"
  },
  "language_info": {
   "codemirror_mode": {
    "name": "ipython",
    "version": 3
   },
   "file_extension": ".py",
   "mimetype": "text/x-python",
   "name": "python",
   "nbconvert_exporter": "python",
   "pygments_lexer": "ipython3",
   "version": "3.7.4"
  }
 },
 "nbformat": 4,
 "nbformat_minor": 2
}
